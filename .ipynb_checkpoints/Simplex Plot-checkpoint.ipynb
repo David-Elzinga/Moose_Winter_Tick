{
 "cells": [
  {
   "cell_type": "code",
   "execution_count": 1,
   "id": "2d0dd97a",
   "metadata": {
    "scrolled": true
   },
   "outputs": [
    {
     "name": "stdout",
     "output_type": "stream",
     "text": [
      "Collecting python-ternary\n",
      "  Downloading python_ternary-1.0.8-py3-none-any.whl (18 kB)\n",
      "Requirement already satisfied: matplotlib>=2 in c:\\users\\delzinga\\anaconda3\\lib\\site-packages (from python-ternary) (3.3.4)\n",
      "Requirement already satisfied: pyparsing!=2.0.4,!=2.1.2,!=2.1.6,>=2.0.3 in c:\\users\\delzinga\\anaconda3\\lib\\site-packages (from matplotlib>=2->python-ternary) (2.4.7)\n",
      "Requirement already satisfied: cycler>=0.10 in c:\\users\\delzinga\\anaconda3\\lib\\site-packages (from matplotlib>=2->python-ternary) (0.10.0)\n",
      "Requirement already satisfied: pillow>=6.2.0 in c:\\users\\delzinga\\anaconda3\\lib\\site-packages (from matplotlib>=2->python-ternary) (8.2.0)\n",
      "Requirement already satisfied: python-dateutil>=2.1 in c:\\users\\delzinga\\anaconda3\\lib\\site-packages (from matplotlib>=2->python-ternary) (2.8.1)\n",
      "Requirement already satisfied: kiwisolver>=1.0.1 in c:\\users\\delzinga\\anaconda3\\lib\\site-packages (from matplotlib>=2->python-ternary) (1.3.1)\n",
      "Requirement already satisfied: numpy>=1.15 in c:\\users\\delzinga\\anaconda3\\lib\\site-packages (from matplotlib>=2->python-ternary) (1.20.2)\n",
      "Requirement already satisfied: six in c:\\users\\delzinga\\anaconda3\\lib\\site-packages (from cycler>=0.10->matplotlib>=2->python-ternary) (1.16.0)\n",
      "Installing collected packages: python-ternary\n",
      "Successfully installed python-ternary-1.0.8\n",
      "Note: you may need to restart the kernel to use updated packages.\n"
     ]
    }
   ],
   "source": [
    "pip install python-ternary"
   ]
  },
  {
   "cell_type": "code",
   "execution_count": 24,
   "id": "6d44842e",
   "metadata": {},
   "outputs": [],
   "source": [
    "import ternary"
   ]
  },
  {
   "cell_type": "code",
   "execution_count": 63,
   "id": "fe67c95f",
   "metadata": {
    "scrolled": true
   },
   "outputs": [
    {
     "data": {
      "image/png": "[encoded data removed]",
      "text/plain": [
       "<Figure size 360x360 with 1 Axes>"
      ]
     },
     "metadata": {},
     "output_type": "display_data"
    }
   ],
   "source": [
    "# https://github.com/marcharper/python-ternary/blob/master/examples/Ternary-Examples.ipynb\n",
    "\n",
    "def r_thresh(p):\n",
    "    params = {}\n",
    "    params['r'] = 0.8572\n",
    "    params['mu'] = 0.2930\n",
    "    params['gamma'] = 1\n",
    "    params['nu'] = 2.3774\n",
    "    params['beta'] = 0.9\n",
    "    \n",
    "    params['alpha'] = p[0]\n",
    "    params['omega'] = p[1]\n",
    "    params['tau'] = p[2]\n",
    "\n",
    "    params['delta'] = params['mu'] + params['gamma']*params['tau'] + params['nu']*params['omega']\n",
    "\n",
    "    r_crit_frac = np.exp(params['mu']) / (np.exp(params['delta']) - 1)\n",
    "    r_crit_term1 = np.exp(params['gamma']*params['tau'])\n",
    "    r_crit_term2 = np.exp(params['alpha']*params['beta'] + params['gamma']*params['tau'])\n",
    "    r_crit_term3 = np.exp(params['alpha']*params['beta'] + params['delta'])\n",
    "    \n",
    "    r_crit = r_crit_frac*(r_crit_term1 - r_crit_term2 + r_crit_term3 - 1) - 1\n",
    "    return 1*(params['r'] > r_crit)\n",
    "\n",
    "figure, tax = ternary.figure(scale=100)\n",
    "figure.set_size_inches(5, 5)\n",
    "tax.heatmapf(r_thresh, boundary=True, style=\"h\", colorbar=False, cmap='Accent_r')\n",
    "tax.right_corner_label(r\"$\\alpha$\", fontsize=12)\n",
    "tax.top_corner_label(r\"$\\omega$\", fontsize=12)\n",
    "tax.left_corner_label(r\"$\\tau$\", fontsize=12)\n",
    "tax.ticks(axis='lbr', multiple=20, linewidth=1, offset=0.025)\n",
    "tax.get_axes().axis('off')\n",
    "tax.clear_matplotlib_ticks()"
   ]
  },
  {
   "cell_type": "code",
   "execution_count": null,
   "id": "d7c0a47a",
   "metadata": {},
   "outputs": [],
   "source": []
  }
 ],
 "metadata": {
  "kernelspec": {
   "display_name": "Python 3",
   "language": "python",
   "name": "python3"
  },
  "language_info": {
   "codemirror_mode": {
    "name": "ipython",
    "version": 3
   },
   "file_extension": ".py",
   "mimetype": "text/x-python",
   "name": "python",
   "nbconvert_exporter": "python",
   "pygments_lexer": "ipython3",
   "version": "3.8.10"
  }
 },
 "nbformat": 4,
 "nbformat_minor": 5
}
